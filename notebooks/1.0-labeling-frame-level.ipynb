{
 "cells": [
  {
   "cell_type": "code",
   "execution_count": 12,
   "metadata": {
    "collapsed": true
   },
   "outputs": [],
   "source": [
    "# importing\n",
    "import json\n",
    "import csv\n",
    "\n",
    "import numpy as np\n",
    "import pandas as pd\n",
    "from torchvision.io import read_video, write_video\n",
    "import numpy as np\n",
    "import os\n",
    "from joblib import Parallel, delayed\n",
    "\n"
   ]
  },
  {
   "cell_type": "code",
   "execution_count": 13,
   "outputs": [],
   "source": [
    "# CONSTANTS\n",
    "\n",
    "FRAMES_PER_SEC = 30\n",
    "\n",
    "# UCF_CRIME_DATASET\n",
    "TRAIN_ANNOTATIONS_SECS_LEVEL = '../data/raw/ucfcrime_v2/public_ucfcrimev2/annotations/train.json'\n",
    "TEST_ANNOTATIONS_SECS_LEVEL = '../data/raw/ucfcrime_v2/public_ucfcrimev2/annotations/test.json'\n",
    "\n",
    "# VIDEO LEVEL FILE PATHS\n",
    "PATH_TRAIN_VIDEO_LEVEL = '../data/interim/train/'\n",
    "PATH_TEST_VIDEO_LEVEL = '../data/interim/test/'\n",
    "\n",
    "# VIDEO_PATHS\n",
    "VIDEO_PATHS = '../data/raw/'\n",
    "\n",
    "# CHOSEN CRIME ACTION THAT CAN BE OCCURRED IN CAMPUS\n",
    "CRIME_ACTION = ['Abuse', 'Fighting', 'Vandalism']"
   ],
   "metadata": {
    "collapsed": false
   }
  },
  {
   "cell_type": "code",
   "execution_count": 14,
   "outputs": [],
   "source": [
    "with open(TRAIN_ANNOTATIONS_SECS_LEVEL, 'r') as f:\n",
    "    temporal_annotation = json.load(f)\n",
    "temporal_annotation_copy = temporal_annotation.copy()\n",
    "for d in temporal_annotation:\n",
    "    if all(word not in d for word in CRIME_ACTION):\n",
    "        del temporal_annotation_copy[d]"
   ],
   "metadata": {
    "collapsed": false
   }
  },
  {
   "cell_type": "code",
   "execution_count": 15,
   "outputs": [
    {
     "data": {
      "text/plain": "{'Abuse/Abuse001_x264.mp4': [{'end': 10, 'start': 8},\n  {'end': 36, 'start': 33},\n  {'end': 61, 'start': 59},\n  {'end': 78, 'start': 76}],\n 'Abuse/Abuse002_x264.mp4': [{'end': 13, 'start': 3}],\n 'Abuse/Abuse003_x264.mp4': [{'end': 42, 'start': 30},\n  {'end': 80, 'start': 68},\n  {'end': 104, 'start': 94},\n  {'end': 115, 'start': 108}],\n 'Abuse/Abuse004_x264.mp4': [{'end': 66, 'start': 28},\n  {'end': 181, 'start': 107}],\n 'Abuse/Abuse005_x264.mp4': [{'end': 4, 'start': 2}, {'end': 30, 'start': 24}],\n 'Abuse/Abuse006_x264.mp4': [{'end': 85, 'start': 10},\n  {'end': 144, 'start': 100}],\n 'Abuse/Abuse007_x264.mp4': [{'end': 5, 'start': 2}],\n 'Abuse/Abuse008_x264.mp4': [{'end': 151, 'start': 147}],\n 'Abuse/Abuse009_x264.mp4': [{'end': 12, 'start': 8},\n  {'end': 20, 'start': 14},\n  {'end': 25, 'start': 22}],\n 'Abuse/Abuse010_x264.mp4': [{'end': 6, 'start': 2}],\n 'Abuse/Abuse011_x264.mp4': [{'end': 17, 'start': 10},\n  {'end': 26, 'start': 20},\n  {'end': 43, 'start': 31},\n  {'end': 94, 'start': 45},\n  {'end': 111, 'start': 108},\n  {'end': 116, 'start': 114}],\n 'Abuse/Abuse012_x264.mp4': [{'end': 14, 'start': 11},\n  {'end': 18, 'start': 15},\n  {'end': 59, 'start': 55},\n  {'end': 69, 'start': 60}],\n 'Abuse/Abuse013_x264.mp4': [{'end': 6, 'start': 0},\n  {'end': 14, 'start': 8},\n  {'end': 55, 'start': 22},\n  {'end': 160, 'start': 137}],\n 'Abuse/Abuse014_x264.mp4': [{'end': 47, 'start': 43}],\n 'Abuse/Abuse015_x264.mp4': [{'end': 125, 'start': 95},\n  {'end': 180, 'start': 170},\n  {'end': 250, 'start': 194}],\n 'Abuse/Abuse016_x264.mp4': [{'end': 39, 'start': 20}],\n 'Abuse/Abuse017_x264.mp4': [{'end': 55, 'start': 2}],\n 'Abuse/Abuse018_x264.mp4': [{'end': 80, 'start': 54}],\n 'Abuse/Abuse019_x264.mp4': [{'end': 126, 'start': 62}],\n 'Abuse/Abuse020_x264.mp4': [{'end': 5, 'start': 2}, {'end': 95, 'start': 55}],\n 'Abuse/Abuse021_x264.mp4': [{'end': 26, 'start': 0},\n  {'end': 40, 'start': 27},\n  {'end': 60, 'start': 41}],\n 'Abuse/Abuse022_x264.mp4': [{'end': 80, 'start': 5}],\n 'Abuse/Abuse023_x264.mp4': [{'end': 12, 'start': 0},\n  {'end': 32, 'start': 17}],\n 'Abuse/Abuse024_x264.mp4': [{'end': 33, 'start': 18}],\n 'Abuse/Abuse025_x264.mp4': [{'end': 65, 'start': 2}],\n 'Abuse/Abuse026_x264.mp4': [{'end': 65, 'start': 3}],\n 'Abuse/Abuse027_x264.mp4': [{'end': 144, 'start': 57}],\n 'Abuse/Abuse028_x264.mp4': [{'end': 8, 'start': 5}],\n 'Abuse/Abuse029_x264.mp4': [{'end': 9, 'start': 3}],\n 'Abuse/Abuse031_x264.mp4': [{'end': 80, 'start': 55},\n  {'end': 146, 'start': 125}],\n 'Abuse/Abuse032_x264.mp4': [{'end': 34, 'start': 18},\n  {'end': 74, 'start': 47}],\n 'Abuse/Abuse033_x264.mp4': [{'end': 20, 'start': 2},\n  {'end': 47, 'start': 37},\n  {'end': 88, 'start': 51}],\n 'Abuse/Abuse034_x264.mp4': [{'end': 43, 'start': 25}],\n 'Abuse/Abuse035_x264.mp4': [{'end': 40, 'start': 1},\n  {'end': 55, 'start': 47},\n  {'end': 81, 'start': 65}],\n 'Abuse/Abuse036_x264.mp4': [{'end': 136, 'start': 14}],\n 'Abuse/Abuse037_x264.mp4': [{'end': 23, 'start': 5}],\n 'Abuse/Abuse038_x264.mp4': [{'end': 11, 'start': 8}],\n 'Abuse/Abuse039_x264.mp4': [{'end': 465, 'start': 379}],\n 'Abuse/Abuse040_x264.mp4': [{'end': 92, 'start': 83}],\n 'Abuse/Abuse041_x264.mp4': [{'end': 18, 'start': 3}],\n 'Abuse/Abuse042_x264.mp4': [{'end': 450, 'start': 257},\n  {'end': 853, 'start': 653}],\n 'Abuse/Abuse043_x264.mp4': [{'end': 42, 'start': 0},\n  {'end': 125, 'start': 53}],\n 'Abuse/Abuse044_x264.mp4': [{'end': 125, 'start': 62}],\n 'Abuse/Abuse045_x264.mp4': [{'end': 10, 'start': 0},\n  {'end': 70, 'start': 13},\n  {'end': 82, 'start': 77},\n  {'end': 168, 'start': 111}],\n 'Abuse/Abuse046_x264.mp4': [{'end': 19, 'start': 3},\n  {'end': 36, 'start': 32}],\n 'Abuse/Abuse047_x264.mp4': [{'end': 10, 'start': 1},\n  {'end': 30, 'start': 14},\n  {'end': 44, 'start': 14}],\n 'Abuse/Abuse048_x264.mp4': [{'end': 54, 'start': 0},\n  {'end': 62, 'start': 55},\n  {'end': 67, 'start': 65},\n  {'end': 113, 'start': 72}],\n 'Abuse/Abuse049_x264.mp4': [{'end': 57, 'start': 19}],\n 'Abuse/Abuse050_x264.mp4': [{'end': 64, 'start': 12},\n  {'end': 155, 'start': 73}],\n 'Fighting/Fighting002_x264.mp4': [{'end': 35, 'start': 1},\n  {'end': 52, 'start': 45}],\n 'Fighting/Fighting004_x264.mp4': [{'end': 115, 'start': 0},\n  {'end': 250, 'start': 166},\n  {'end': 371, 'start': 282},\n  {'end': 535, 'start': 397}],\n 'Fighting/Fighting005_x264.mp4': [{'end': 46, 'start': 35}],\n 'Fighting/Fighting006_x264.mp4': [{'end': 27, 'start': 9}],\n 'Fighting/Fighting007_x264.mp4': [{'end': 12, 'start': 0},\n  {'end': 90, 'start': 32}],\n 'Fighting/Fighting008_x264.mp4': [{'end': 110, 'start': 58},\n  {'end': 161, 'start': 149},\n  {'end': 380, 'start': 357}],\n 'Fighting/Fighting009_x264.mp4': [{'end': 57, 'start': 51}],\n 'Fighting/Fighting010_x264.mp4': [{'end': 110, 'start': 92}],\n 'Fighting/Fighting011_x264.mp4': [{'end': 99, 'start': 65}],\n 'Fighting/Fighting012_x264.mp4': [{'end': 12, 'start': 2}],\n 'Fighting/Fighting013_x264.mp4': [{'end': 46, 'start': 2}],\n 'Fighting/Fighting014_x264.mp4': [{'end': 100, 'start': 63}],\n 'Fighting/Fighting015_x264.mp4': [{'end': 100, 'start': 75}],\n 'Fighting/Fighting016_x264.mp4': [{'end': 68, 'start': 2}],\n 'Fighting/Fighting017_x264.mp4': [{'end': 41, 'start': 16},\n  {'end': 63, 'start': 54}],\n 'Fighting/Fighting019_x264.mp4': [{'end': 72, 'start': 21}],\n 'Fighting/Fighting020_x264.mp4': [{'end': 72, 'start': 1}],\n 'Fighting/Fighting021_x264.mp4': [{'end': 58, 'start': 49}],\n 'Fighting/Fighting022_x264.mp4': [{'end': 113, 'start': 88}],\n 'Fighting/Fighting023_x264.mp4': [{'end': 24, 'start': 10}],\n 'Fighting/Fighting024_x264.mp4': [{'end': 49, 'start': 3}],\n 'Fighting/Fighting025_x264.mp4': [{'end': 60, 'start': 20},\n  {'end': 158, 'start': 127}],\n 'Fighting/Fighting026_x264.mp4': [{'end': 29, 'start': 14},\n  {'end': 105, 'start': 51}],\n 'Fighting/Fighting027_x264.mp4': [{'end': 110, 'start': 70}],\n 'Fighting/Fighting028_x264.mp4': [{'end': 74, 'start': 14}],\n 'Fighting/Fighting029_x264.mp4': [{'end': 123, 'start': 6}],\n 'Fighting/Fighting030_x264.mp4': [{'end': 54, 'start': 37}],\n 'Fighting/Fighting031_x264.mp4': [{'end': 44, 'start': 30},\n  {'end': 112, 'start': 92}],\n 'Fighting/Fighting032_x264.mp4': [{'end': 23, 'start': 16},\n  {'end': 43, 'start': 33}],\n 'Fighting/Fighting034_x264.mp4': [{'end': 165, 'start': 92}],\n 'Fighting/Fighting035_x264.mp4': [{'end': 19, 'start': 3}],\n 'Fighting/Fighting036_x264.mp4': [{'end': 45, 'start': 0}],\n 'Fighting/Fighting037_x264.mp4': [{'end': 94, 'start': 90}],\n 'Fighting/Fighting038_x264.mp4': [{'end': 25, 'start': 9}],\n 'Fighting/Fighting039_x264.mp4': [{'end': 48, 'start': 26},\n  {'end': 148, 'start': 119}],\n 'Fighting/Fighting040_x264.mp4': [{'end': 61, 'start': 22}],\n 'Fighting/Fighting041_x264.mp4': [{'end': 641, 'start': 617}],\n 'Fighting/Fighting043_x264.mp4': [{'end': 59, 'start': 16},\n  {'end': 90, 'start': 70}],\n 'Fighting/Fighting044_x264.mp4': [{'end': 37, 'start': 11},\n  {'end': 61, 'start': 59},\n  {'end': 81, 'start': 76},\n  {'end': 205, 'start': 111}],\n 'Fighting/Fighting045_x264.mp4': [{'end': 80, 'start': 27},\n  {'end': 170, 'start': 122}],\n 'Fighting/Fighting046_x264.mp4': [{'end': 45, 'start': 14}],\n 'Fighting/Fighting048_x264.mp4': [{'end': 35, 'start': 12},\n  {'end': 104, 'start': 71}],\n 'Fighting/Fighting049_x264.mp4': [{'end': 32, 'start': 4}],\n 'Fighting/Fighting050_x264.mp4': [{'end': 590, 'start': 393}],\n 'Fighting/Fighting051_x264.mp4': [{'end': 110, 'start': 39},\n  {'end': 206, 'start': 148}],\n 'Fighting/Fighting052_x264.mp4': [{'end': 5, 'start': 1}],\n 'Fighting/Fighting053_x264.mp4': [{'end': 8, 'start': 0}],\n 'Fighting/Fighting054_x264.mp4': [{'end': 7, 'start': 0}],\n 'Fighting/Fighting055_x264.mp4': [{'end': 10, 'start': 4}],\n 'Fighting/Fighting056_x264.mp4': [{'end': 12, 'start': 5}],\n 'Fighting/Fighting057_x264.mp4': [{'end': 18, 'start': 3}],\n 'Fighting/Fighting058_x264.mp4': [{'end': 19, 'start': 0}],\n 'Fighting/Fighting059_x264.mp4': [{'end': 3, 'start': 2},\n  {'end': 15, 'start': 7}],\n 'Fighting/Fighting060_x264.mp4': [{'end': 16, 'start': 7}],\n 'Fighting/Fighting061_x264.mp4': [{'end': 29, 'start': 8}],\n 'Fighting/Fighting062_x264.mp4': [{'end': 25, 'start': 7}],\n 'Fighting/Fighting063_x264.mp4': [{'end': 32, 'start': 6}],\n 'Fighting/Fighting064_x264.mp4': [{'end': 36, 'start': 15}],\n 'Fighting/Fighting065_x264.mp4': [{'end': 10, 'start': 0},\n  {'end': 19, 'start': 11}],\n 'Fighting/Fighting066_x264.mp4': [{'end': 38, 'start': 0}],\n 'Fighting/Fighting067_x264.mp4': [{'end': 33, 'start': 26}],\n 'Fighting/Fighting068_x264.mp4': [{'end': 41, 'start': 0}],\n 'Fighting/Fighting069_x264.mp4': [{'end': 24, 'start': 13}],\n 'Fighting/Fighting070_x264.mp4': [{'end': 21, 'start': 10}],\n 'Fighting/Fighting071_x264.mp4': [{'end': 20, 'start': 12}],\n 'Fighting/Fighting072_x264.mp4': [{'end': 21, 'start': 9}],\n 'Fighting/Fighting073_x264.mp4': [{'end': 14, 'start': 7}],\n 'Fighting/Fighting074_x264.mp4': [{'end': 37, 'start': 35}],\n 'Fighting/Fighting075_x264.mp4': [{'end': 16, 'start': 0}],\n 'Fighting/Fighting076_x264.mp4': [{'end': 26, 'start': 1},\n  {'end': 36, 'start': 34},\n  {'end': 44, 'start': 41}],\n 'Fighting/Fighting077_x264.mp4': [{'end': 54, 'start': 47},\n  {'end': 67, 'start': 57}],\n 'Fighting/Fighting078_x264.mp4': [{'end': 11, 'start': 7},\n  {'end': 37, 'start': 15},\n  {'end': 70, 'start': 67}],\n 'Fighting/Fighting079_x264.mp4': [{'end': 26, 'start': 11},\n  {'end': 59, 'start': 36},\n  {'end': 74, 'start': 70}],\n 'Fighting/Fighting080_x264.mp4': [{'end': 43, 'start': 35}],\n 'Fighting/Fighting081_x264.mp4': [{'end': 46, 'start': 21},\n  {'end': 67, 'start': 55}],\n 'Fighting/Fighting082_x264.mp4': [{'end': 33, 'start': 27}],\n 'Fighting/Fighting083_x264.mp4': [{'end': 55, 'start': 44}],\n 'Fighting/Fighting084_x264.mp4': [{'end': 50, 'start': 36}],\n 'Vandalism/Vandalism001_x264.mp4': [{'end': 46, 'start': 21}],\n 'Vandalism/Vandalism002_x264.mp4': [{'end': 60, 'start': 1}],\n 'Vandalism/Vandalism003_x264.mp4': [{'end': 20, 'start': 14}],\n 'Vandalism/Vandalism004_x264.mp4': [{'end': 55, 'start': 5},\n  {'end': 85, 'start': 67}],\n 'Vandalism/Vandalism005_x264.mp4': [{'end': 33, 'start': 20}],\n 'Vandalism/Vandalism006_x264.mp4': [{'end': 25, 'start': 3}],\n 'Vandalism/Vandalism008_x264.mp4': [{'end': 118, 'start': 102}],\n 'Vandalism/Vandalism009_x264.mp4': [{'end': 30, 'start': 16}],\n 'Vandalism/Vandalism010_x264.mp4': [{'end': 81, 'start': 71}],\n 'Vandalism/Vandalism011_x264.mp4': [{'end': 95, 'start': 31}],\n 'Vandalism/Vandalism012_x264.mp4': [{'end': 21, 'start': 6}],\n 'Vandalism/Vandalism013_x264.mp4': [{'end': 78, 'start': 54}],\n 'Vandalism/Vandalism014_x264.mp4': [{'end': 8, 'start': 2}],\n 'Vandalism/Vandalism016_x264.mp4': [{'end': 192, 'start': 175}],\n 'Vandalism/Vandalism018_x264.mp4': [{'end': 106, 'start': 70}],\n 'Vandalism/Vandalism019_x264.mp4': [{'end': 39, 'start': 26}],\n 'Vandalism/Vandalism020_x264.mp4': [{'end': 30, 'start': 16}],\n 'Vandalism/Vandalism021_x264.mp4': [{'end': 44, 'start': 0}],\n 'Vandalism/Vandalism022_x264.mp4': [{'end': 44, 'start': 5},\n  {'end': 115, 'start': 54}],\n 'Vandalism/Vandalism023_x264.mp4': [{'end': 194, 'start': 169}],\n 'Vandalism/Vandalism024_x264.mp4': [{'end': 30, 'start': 20}],\n 'Vandalism/Vandalism025_x264.mp4': [{'end': 51, 'start': 29}],\n 'Vandalism/Vandalism026_x264.mp4': [{'end': 24, 'start': 13}],\n 'Vandalism/Vandalism027_x264.mp4': [{'end': 17, 'start': 7}],\n 'Vandalism/Vandalism029_x264.mp4': [{'end': 11, 'start': 0}],\n 'Vandalism/Vandalism030_x264.mp4': [{'end': 44, 'start': 1}],\n 'Vandalism/Vandalism031_x264.mp4': [{'end': 36, 'start': 9}],\n 'Vandalism/Vandalism032_x264.mp4': [{'end': 10, 'start': 6}],\n 'Vandalism/Vandalism033_x264.mp4': [{'end': 6, 'start': 4},\n  {'end': 73, 'start': 12}],\n 'Vandalism/Vandalism034_x264.mp4': [{'end': 57, 'start': 38}],\n 'Vandalism/Vandalism035_x264.mp4': [{'end': 19, 'start': 7}],\n 'Vandalism/Vandalism037_x264.mp4': [{'end': 40, 'start': 11}],\n 'Vandalism/Vandalism038_x264.mp4': [{'end': 69, 'start': 12}],\n 'Vandalism/Vandalism039_x264.mp4': [{'end': 20, 'start': 16}],\n 'Vandalism/Vandalism040_x264.mp4': [{'end': 11, 'start': 1}],\n 'Vandalism/Vandalism041_x264.mp4': [{'end': 55, 'start': 7}],\n 'Vandalism/Vandalism042_x264.mp4': [{'end': 110, 'start': 35}],\n 'Vandalism/Vandalism043_x264.mp4': [{'end': 47, 'start': 1},\n  {'end': 74, 'start': 58},\n  {'end': 107, 'start': 95}],\n 'Vandalism/Vandalism044_x264.mp4': [{'end': 152, 'start': 5}],\n 'Vandalism/Vandalism045_x264.mp4': [{'end': 130, 'start': 28}],\n 'Vandalism/Vandalism046_x264.mp4': [{'end': 37, 'start': 24}],\n 'Vandalism/Vandalism047_x264.mp4': [{'end': 5, 'start': 3},\n  {'end': 37, 'start': 35},\n  {'end': 56, 'start': 52},\n  {'end': 80, 'start': 71}],\n 'Vandalism/Vandalism048_x264.mp4': [{'end': 177, 'start': 100}],\n 'Vandalism/Vandalism049_x264.mp4': [{'end': 24, 'start': 8},\n  {'end': 82, 'start': 50},\n  {'end': 137, 'start': 120},\n  {'end': 200, 'start': 162}],\n 'Vandalism/Vandalism050_x264.mp4': [{'end': 29, 'start': 5}]}"
     },
     "execution_count": 15,
     "metadata": {},
     "output_type": "execute_result"
    }
   ],
   "source": [
    "temporal_annotation_copy"
   ],
   "metadata": {
    "collapsed": false
   }
  },
  {
   "cell_type": "code",
   "execution_count": 16,
   "outputs": [],
   "source": [
    "def video_name(video_path):\n",
    "    split_path = video_path.split(\"/\")\n",
    "    video_name_ext = split_path[-1]\n",
    "    crime_name = split_path[0]\n",
    "    vid_name = video_name_ext.split(\".\")[0]\n",
    "    video_ext = video_name_ext.split(\".\")[-1]\n",
    "    return crime_name, vid_name"
   ],
   "metadata": {
    "collapsed": false
   }
  },
  {
   "cell_type": "code",
   "execution_count": 16,
   "outputs": [],
   "source": [],
   "metadata": {
    "collapsed": false
   }
  },
  {
   "cell_type": "code",
   "execution_count": 17,
   "outputs": [],
   "source": [
    "# for video_pth in temporal_annotation_copy:\n",
    "#     video_temporal = temporal_annotation_copy[video_pth]\n",
    "#     video_temporal = pd.DataFrame(video_temporal)\n",
    "#     video_temporal['period'] = video_temporal['end'] - video_temporal['start']\n",
    "#     video_temporal = video_temporal[video_temporal['period'] > 2]\n",
    "#     videos = {}\n",
    "#\n",
    "#     for i in range(len(video_temporal)):\n",
    "#         videos[i] = np.arange(int(video_temporal['start'][i]), int(video_temporal['end'][i]), 3)\n",
    "#\n",
    "#     for video in videos:\n",
    "#         for i in range(len(videos[video])):\n",
    "#             if i < len(videos[video]) - 1:\n",
    "#                 start = videos[video][i]\n",
    "#                 end = videos[video][i + 1]\n",
    "#                 full_path = VIDEO_PATHS + video_pth\n",
    "#                 crime_name, vid_name = video_name(video_pth)\n",
    "#                 write_path = PATH_TRAIN_VIDEO_LEVEL + crime_name\n",
    "#                 video_write_path = write_path + '/' + vid_name + f'_{start}_{end}' + '.mp4'\n",
    "#                 os.makedirs(write_path, exist_ok=True)\n",
    "#                 print(video_write_path)\n",
    "#                 frames, _, _ = read_video(full_path, start_pts=start, end_pts=end, pts_unit='sec')\n",
    "#                 write_video(video_write_path, frames, fps=30)\n"
   ],
   "metadata": {
    "collapsed": false
   }
  },
  {
   "cell_type": "code",
   "execution_count": 18,
   "outputs": [],
   "source": [
    "def writing_csv_train(video_write_path, crime_name):\n",
    "    # Define the actual data\n",
    "    row_data = [video_write_path, crime_name]\n",
    "\n",
    "    # 1. Open a new CSV file\n",
    "    with open(PATH_TRAIN_VIDEO_LEVEL + 'train.csv', 'a') as file:\n",
    "        # 2. Create a CSV writer\n",
    "        writer = csv.writer(file)\n",
    "        # 3. Write data to the file\n",
    "        writer.writerow(row_data)"
   ],
   "metadata": {
    "collapsed": false
   }
  },
  {
   "cell_type": "code",
   "execution_count": 19,
   "outputs": [],
   "source": [
    "def write_training_videos(video_pth):\n",
    "    video_temporal = temporal_annotation_copy[video_pth]\n",
    "    video_temporal = pd.DataFrame(video_temporal)\n",
    "    video_temporal['period'] = video_temporal['end'] - video_temporal['start']\n",
    "    video_temporal = video_temporal[video_temporal['period'] > 4]\n",
    "    videos = {}\n",
    "    for i in range(len(video_temporal)):\n",
    "        videos[i] = np.arange(int(video_temporal['start'].iloc[i]), int(video_temporal['end'].iloc[i]), 5)\n",
    "        for video in videos:\n",
    "            for i in range(len(videos[video])):\n",
    "                if i < len(videos[video]) - 1:\n",
    "                    start = videos[video][i]\n",
    "                    end = videos[video][i + 1]\n",
    "                    full_path = VIDEO_PATHS + video_pth\n",
    "                    crime_name, vid_name = video_name(video_pth)\n",
    "                    write_path = PATH_TRAIN_VIDEO_LEVEL + crime_name\n",
    "                    video_write_path = write_path + '/' + vid_name + f'_{start}_{end}' + '.mp4'\n",
    "                    os.makedirs(write_path, exist_ok=True)\n",
    "                    # print(video_write_path)\n",
    "                    frames, _, _ = read_video(full_path, start_pts=start, end_pts=end, pts_unit='sec')\n",
    "                    write_video(video_write_path, frames, fps=30)\n",
    "                    writing_csv_train(video_write_path, crime_name)"
   ],
   "metadata": {
    "collapsed": false
   }
  },
  {
   "cell_type": "code",
   "execution_count": 20,
   "outputs": [
    {
     "name": "stderr",
     "output_type": "stream",
     "text": [
      "[Parallel(n_jobs=16)]: Using backend ThreadingBackend with 16 concurrent workers.\n",
      "[Parallel(n_jobs=16)]: Done   9 tasks      | elapsed:    7.4s\n",
      "[Parallel(n_jobs=16)]: Done  18 tasks      | elapsed:  1.2min\n",
      "[Parallel(n_jobs=16)]: Done  29 tasks      | elapsed:  1.9min\n",
      "[Parallel(n_jobs=16)]: Done  40 tasks      | elapsed:  3.3min\n",
      "[Parallel(n_jobs=16)]: Done  53 tasks      | elapsed:  4.3min\n",
      "[Parallel(n_jobs=16)]: Done  66 tasks      | elapsed:  5.6min\n",
      "[Parallel(n_jobs=16)]: Done  81 tasks      | elapsed:  6.8min\n",
      "[Parallel(n_jobs=16)]: Done  96 tasks      | elapsed:  7.8min\n",
      "[Parallel(n_jobs=16)]: Done 113 tasks      | elapsed:  9.0min\n",
      "[Parallel(n_jobs=16)]: Done 130 tasks      | elapsed:  9.8min\n",
      "[Parallel(n_jobs=16)]: Done 159 out of 172 | elapsed: 11.3min remaining:   55.4s\n",
      "[Parallel(n_jobs=16)]: Done 172 out of 172 | elapsed: 14.0min finished\n"
     ]
    },
    {
     "data": {
      "text/plain": "[None,\n None,\n None,\n None,\n None,\n None,\n None,\n None,\n None,\n None,\n None,\n None,\n None,\n None,\n None,\n None,\n None,\n None,\n None,\n None,\n None,\n None,\n None,\n None,\n None,\n None,\n None,\n None,\n None,\n None,\n None,\n None,\n None,\n None,\n None,\n None,\n None,\n None,\n None,\n None,\n None,\n None,\n None,\n None,\n None,\n None,\n None,\n None,\n None,\n None,\n None,\n None,\n None,\n None,\n None,\n None,\n None,\n None,\n None,\n None,\n None,\n None,\n None,\n None,\n None,\n None,\n None,\n None,\n None,\n None,\n None,\n None,\n None,\n None,\n None,\n None,\n None,\n None,\n None,\n None,\n None,\n None,\n None,\n None,\n None,\n None,\n None,\n None,\n None,\n None,\n None,\n None,\n None,\n None,\n None,\n None,\n None,\n None,\n None,\n None,\n None,\n None,\n None,\n None,\n None,\n None,\n None,\n None,\n None,\n None,\n None,\n None,\n None,\n None,\n None,\n None,\n None,\n None,\n None,\n None,\n None,\n None,\n None,\n None,\n None,\n None,\n None,\n None,\n None,\n None,\n None,\n None,\n None,\n None,\n None,\n None,\n None,\n None,\n None,\n None,\n None,\n None,\n None,\n None,\n None,\n None,\n None,\n None,\n None,\n None,\n None,\n None,\n None,\n None,\n None,\n None,\n None,\n None,\n None,\n None,\n None,\n None,\n None,\n None,\n None,\n None,\n None,\n None,\n None,\n None,\n None,\n None]"
     },
     "execution_count": 20,
     "metadata": {},
     "output_type": "execute_result"
    }
   ],
   "source": [
    "Parallel(n_jobs=os.cpu_count(), prefer='threads', verbose=10)(\n",
    "    delayed(write_training_videos)(video_pth) for video_pth in temporal_annotation_copy)\n"
   ],
   "metadata": {
    "collapsed": false
   }
  },
  {
   "cell_type": "code",
   "execution_count": 67,
   "outputs": [],
   "source": [
    "l = pd.DataFrame(l)\n",
    "l['period'] = l['end'] - l['start']\n",
    "l = l[l['period'] > 2]\n",
    "videos = {}\n",
    "\n",
    "for i in range(len(l)):\n",
    "    videos[i] = np.arange(int(l['start'][i]), int(l['end'][i]), 3)\n"
   ],
   "metadata": {
    "collapsed": false
   }
  },
  {
   "cell_type": "code",
   "execution_count": 69,
   "outputs": [
    {
     "data": {
      "text/plain": "{0: array([30, 33, 36, 39]),\n 1: array([68, 71, 74, 77]),\n 2: array([ 94,  97, 100, 103]),\n 3: array([108, 111, 114])}"
     },
     "execution_count": 69,
     "metadata": {},
     "output_type": "execute_result"
    }
   ],
   "source": [
    "videos"
   ],
   "metadata": {
    "collapsed": false
   }
  },
  {
   "cell_type": "code",
   "execution_count": 76,
   "outputs": [
    {
     "name": "stdout",
     "output_type": "stream",
     "text": [
      "30 33\n",
      "33 36\n",
      "36 39\n",
      "68 71\n",
      "71 74\n",
      "74 77\n",
      "94 97\n",
      "97 100\n",
      "100 103\n",
      "108 111\n",
      "111 114\n"
     ]
    }
   ],
   "source": [
    "for video in videos:\n",
    "    for i in range(len(videos[video])):\n",
    "        if i < len(videos[video]) - 1:\n",
    "            start = videos[video][i]\n",
    "            end = videos[video][i + 1]\n",
    "            print(start, end)\n"
   ],
   "metadata": {
    "collapsed": false
   }
  },
  {
   "cell_type": "code",
   "execution_count": 1,
   "outputs": [],
   "source": [],
   "metadata": {
    "collapsed": false
   }
  },
  {
   "cell_type": "code",
   "execution_count": 3,
   "outputs": [
    {
     "data": {
      "text/plain": "('Stealing', 'Stealing101_x264')"
     },
     "execution_count": 3,
     "metadata": {},
     "output_type": "execute_result"
    }
   ],
   "source": [
    "video_name('Stealing/Stealing101_x264.mp4')"
   ],
   "metadata": {
    "collapsed": false
   }
  },
  {
   "cell_type": "code",
   "execution_count": null,
   "outputs": [],
   "source": [
    "def create_video_dataset():\n",
    "    crime_name, vid_name = video_name(video_path)\n",
    "\n",
    "\n",
    "label_frame_level = PATH_FRAME_LEVEL + video_name + '.csv'\n"
   ],
   "metadata": {
    "collapsed": false
   }
  }
 ],
 "metadata": {
  "kernelspec": {
   "display_name": "Python 3",
   "language": "python",
   "name": "python3"
  },
  "language_info": {
   "codemirror_mode": {
    "name": "ipython",
    "version": 2
   },
   "file_extension": ".py",
   "mimetype": "text/x-python",
   "name": "python",
   "nbconvert_exporter": "python",
   "pygments_lexer": "ipython2",
   "version": "2.7.6"
  }
 },
 "nbformat": 4,
 "nbformat_minor": 0
}
