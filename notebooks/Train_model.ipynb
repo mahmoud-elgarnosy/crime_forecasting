{
 "cells": [
  {
   "cell_type": "code",
   "execution_count": 1,
   "outputs": [],
   "source": [
    "import pandas as pd\n",
    "# Imports\n",
    "import torch\n",
    "import torch.nn as nn\n",
    "from tqdm import tqdm\n",
    "import numpy as np\n",
    "from src.data.make_dataset import CustomDataset\n",
    "from torch.utils.data import random_split\n",
    "from torch.utils.data import DataLoader, Dataset\n",
    "import src.models.featureExtractor as Model\n",
    "from torchvision import transforms\n",
    "\n",
    "\n"
   ],
   "metadata": {
    "collapsed": false
   }
  },
  {
   "cell_type": "code",
   "execution_count": 2,
   "outputs": [
    {
     "data": {
      "text/plain": "tensor([0.], device='cuda:0')"
     },
     "execution_count": 2,
     "metadata": {},
     "output_type": "execute_result"
    }
   ],
   "source": [
    "torch.zeros(1).cuda()"
   ],
   "metadata": {
    "collapsed": false
   }
  },
  {
   "cell_type": "code",
   "execution_count": 3,
   "outputs": [],
   "source": [
    "MODEL_PATH = '../models'"
   ],
   "metadata": {
    "collapsed": false
   }
  },
  {
   "cell_type": "code",
   "execution_count": 4,
   "outputs": [],
   "source": [
    "dataset = CustomDataset(csv_file='../data/interim/train/train.csv', transform=transforms.ToTensor())\n",
    "\n",
    "train_set, test_set = random_split(dataset, [.8, .2])\n",
    "train_loader = DataLoader(train_set, batch_size=32, shuffle=True)\n",
    "test_loader = DataLoader(test_set, batch_size=32, shuffle=True)\n",
    "#\n",
    "# videos, labels = next(iter(train_loader))\n",
    "# print(labels)"
   ],
   "metadata": {
    "collapsed": false
   }
  },
  {
   "cell_type": "code",
   "execution_count": 5,
   "outputs": [],
   "source": [
    "# videos, labels = next(iter(train_loader))\n",
    "# print(videos.shape)"
   ],
   "metadata": {
    "collapsed": false
   }
  },
  {
   "cell_type": "code",
   "execution_count": 6,
   "outputs": [],
   "source": [
    "# BATCH_SIZE = 64\n",
    "NUM_EPOCHS = 200"
   ],
   "metadata": {
    "collapsed": false
   }
  },
  {
   "cell_type": "code",
   "execution_count": 7,
   "outputs": [
    {
     "name": "stdout",
     "output_type": "stream",
     "text": [
      "cuda\n"
     ]
    }
   ],
   "source": [
    "device = torch.device('cuda' if torch.cuda.is_available() else 'cpu')\n",
    "print(device)\n",
    "# Initialize the lstm model\n",
    "model = Model.model\n",
    "model.to(device)\n",
    "# Initialize loss and optimizer\n",
    "criterion = nn.BCELoss()\n",
    "optimizer = Model.optimizer"
   ],
   "metadata": {
    "collapsed": false
   }
  },
  {
   "cell_type": "code",
   "execution_count": 8,
   "outputs": [],
   "source": [
    "def save_model(best_model, best_optimizer, rmse_test, n_epoch):\n",
    "    state = {\n",
    "                'epoch': n_epoch,\n",
    "                'model_state_dict': best_model.state_dict(),\n",
    "                'optimizer_state_dict': best_optimizer.state_dict(),\n",
    "                'loss': rmse_test,\n",
    "                }\n",
    "    torch.save(state, MODEL_PATH + f'/570_alternative_approach_{n_epoch}_{round(float(rmse_test), 2 )}.tar')"
   ],
   "metadata": {
    "collapsed": false
   }
  },
  {
   "cell_type": "code",
   "execution_count": 9,
   "outputs": [],
   "source": [
    "# check the accuracy\n",
    "def check_acc(loader, model):\n",
    "    num_correct = 0\n",
    "    num_samples = 0\n",
    "    model.eval()\n",
    "    with torch.no_grad():\n",
    "        print('here...................')\n",
    "        for x,y in loader:\n",
    "            x = x.type(torch.FloatTensor).to(device=device)\n",
    "            y = y.type(torch.FloatTensor).to(device=device).unsqueeze(1)\n",
    "\n",
    "            # Calculate the acc\n",
    "            scores = model(x)\n",
    "            _, predictions = scores.max(1)\n",
    "            num_correct += (predictions == y).sum()\n",
    "            num_samples += predictions.size(0)\n",
    "\n",
    "        acc = num_correct/ num_samples\n",
    "\n",
    "    model.train()\n",
    "    return acc\n",
    "        # print(f'Got {num_correct} / {num_samples} with accuracy {float(num_correct/ num_samples) * 100:.02f} ')\n"
   ],
   "metadata": {
    "collapsed": false
   }
  },
  {
   "cell_type": "code",
   "execution_count": null,
   "outputs": [
    {
     "name": "stderr",
     "output_type": "stream",
     "text": [
      "4it [08:36, 127.45s/it]"
     ]
    }
   ],
   "source": [
    "# Train Networks\n",
    "for epoch in range(NUM_EPOCHS):\n",
    "    for batch_idx, (data, targets) in tqdm(enumerate(train_loader)):\n",
    "        # Get data cuda if possible\n",
    "        data = data.type(torch.FloatTensor).to(device=device)\n",
    "        targets = targets.type(torch.FloatTensor).to(device=device).unsqueeze(1)\n",
    "\n",
    "        # Forward\n",
    "        scores = model(data)\n",
    "        loss = criterion(scores, targets)\n",
    "\n",
    "        # Backward\n",
    "        optimizer.zero_grad()\n",
    "        loss.backward()\n",
    "        # Gradient step or Adam step\n",
    "        optimizer.step()\n",
    "    acc_train = check_acc(train_loader, model)\n",
    "    acc_test  = check_acc(test_loader, model)\n",
    "    print('Train Epoch: {} \\ttrain_Loss: {:.02f} \\ttest_Loss: {:.02f}'.format(epoch,acc_train * 100, acc_test * 100))\n"
   ],
   "metadata": {
    "collapsed": false
   }
  },
  {
   "cell_type": "code",
   "execution_count": null,
   "outputs": [],
   "source": [],
   "metadata": {
    "collapsed": false
   }
  },
  {
   "cell_type": "code",
   "execution_count": null,
   "outputs": [],
   "source": [],
   "metadata": {
    "collapsed": false
   }
  }
 ],
 "metadata": {
  "kernelspec": {
   "name": "crime_nightly_v2",
   "language": "python",
   "display_name": "crime_nightly_v2"
  },
  "language_info": {
   "codemirror_mode": {
    "name": "ipython",
    "version": 2
   },
   "file_extension": ".py",
   "mimetype": "text/x-python",
   "name": "python",
   "nbconvert_exporter": "python",
   "pygments_lexer": "ipython2",
   "version": "2.7.6"
  }
 },
 "nbformat": 4,
 "nbformat_minor": 0
}
